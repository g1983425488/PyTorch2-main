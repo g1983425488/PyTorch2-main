{
 "cells": [
  {
   "cell_type": "code",
   "execution_count": 1,
   "id": "5a25b03b",
   "metadata": {},
   "outputs": [
    {
     "data": {
      "text/plain": [
       "tensor([[[ 0.,  1.,  2.,  3.,  4.],\n",
       "         [ 5.,  6.,  7.,  8.,  9.]],\n",
       "\n",
       "        [[10., 11., 12., 13., 14.],\n",
       "         [15., 16., 17., 18., 19.]]])"
      ]
     },
     "execution_count": 1,
     "metadata": {},
     "output_type": "execute_result"
    }
   ],
   "source": [
    "import torch\n",
    "\n",
    "#虚拟文字数据,2句话,每句话2个词,每个词用5个数字表示\n",
    "text = torch.arange(2 * 2 * 5).reshape(2, 2, 5).float()\n",
    "\n",
    "text"
   ]
  },
  {
   "cell_type": "code",
   "execution_count": 2,
   "id": "b632d126",
   "metadata": {},
   "outputs": [
    {
     "data": {
      "text/plain": [
       "tensor([[[-1.4142e+00, -7.0710e-01,  0.0000e+00,  7.0710e-01,  1.4142e+00],\n",
       "         [-1.4142e+00, -7.0710e-01,  1.7881e-07,  7.0711e-01,  1.4142e+00]],\n",
       "\n",
       "        [[-1.4142e+00, -7.0711e-01, -2.3842e-07,  7.0710e-01,  1.4142e+00],\n",
       "         [-1.4142e+00, -7.0710e-01,  2.9802e-07,  7.0711e-01,  1.4142e+00]]])"
      ]
     },
     "execution_count": 2,
     "metadata": {},
     "output_type": "execute_result"
    }
   ],
   "source": [
    "#LayerNorm,一般用来处理序列数据,声音或者文字\n",
    "torch.nn.LayerNorm(normalized_shape=5, elementwise_affine=False)(text)"
   ]
  },
  {
   "cell_type": "code",
   "execution_count": 3,
   "id": "05dee6c2",
   "metadata": {},
   "outputs": [
    {
     "data": {
      "text/plain": [
       "tensor([[[[ 0.,  1.,  2.,  3.,  4.],\n",
       "          [ 5.,  6.,  7.,  8.,  9.],\n",
       "          [10., 11., 12., 13., 14.],\n",
       "          [15., 16., 17., 18., 19.],\n",
       "          [20., 21., 22., 23., 24.]]],\n",
       "\n",
       "\n",
       "        [[[25., 26., 27., 28., 29.],\n",
       "          [30., 31., 32., 33., 34.],\n",
       "          [35., 36., 37., 38., 39.],\n",
       "          [40., 41., 42., 43., 44.],\n",
       "          [45., 46., 47., 48., 49.]]]])"
      ]
     },
     "execution_count": 3,
     "metadata": {},
     "output_type": "execute_result"
    }
   ],
   "source": [
    "#虚拟图像数据,2张图,单通道,5*5尺寸\n",
    "image = torch.arange(2 * 1 * 5 * 5).reshape(2, 1, 5, 5).float()\n",
    "\n",
    "image"
   ]
  },
  {
   "cell_type": "code",
   "execution_count": 4,
   "id": "50fc8b19",
   "metadata": {},
   "outputs": [
    {
     "data": {
      "text/plain": [
       "tensor([[[[-1.6977, -1.6285, -1.5592, -1.4899, -1.4206],\n",
       "          [-1.3513, -1.2820, -1.2127, -1.1434, -1.0741],\n",
       "          [-1.0048, -0.9355, -0.8662, -0.7969, -0.7276],\n",
       "          [-0.6583, -0.5890, -0.5197, -0.4504, -0.3811],\n",
       "          [-0.3118, -0.2425, -0.1732, -0.1039, -0.0346]]],\n",
       "\n",
       "\n",
       "        [[[ 0.0346,  0.1039,  0.1732,  0.2425,  0.3118],\n",
       "          [ 0.3811,  0.4504,  0.5197,  0.5890,  0.6583],\n",
       "          [ 0.7276,  0.7969,  0.8662,  0.9355,  1.0048],\n",
       "          [ 1.0741,  1.1434,  1.2127,  1.2820,  1.3513],\n",
       "          [ 1.4206,  1.4899,  1.5592,  1.6285,  1.6977]]]])"
      ]
     },
     "execution_count": 4,
     "metadata": {},
     "output_type": "execute_result"
    }
   ],
   "source": [
    "#BatchNorm2d,一般用来处理图像数据\n",
    "torch.nn.BatchNorm2d(num_features=1, affine=False)(image)"
   ]
  }
 ],
 "metadata": {
  "kernelspec": {
   "display_name": "Python [conda env:pt2]",
   "language": "python",
   "name": "conda-env-pt2-py"
  },
  "language_info": {
   "codemirror_mode": {
    "name": "ipython",
    "version": 3
   },
   "file_extension": ".py",
   "mimetype": "text/x-python",
   "name": "python",
   "nbconvert_exporter": "python",
   "pygments_lexer": "ipython3",
   "version": "3.10.11"
  }
 },
 "nbformat": 4,
 "nbformat_minor": 5
}
