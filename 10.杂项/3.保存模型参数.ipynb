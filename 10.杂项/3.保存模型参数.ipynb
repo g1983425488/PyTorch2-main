{
 "cells": [
  {
   "cell_type": "code",
   "execution_count": 1,
   "id": "a1c87aeb",
   "metadata": {},
   "outputs": [
    {
     "data": {
      "text/plain": [
       "Linear(in_features=3, out_features=2, bias=True)"
      ]
     },
     "execution_count": 1,
     "metadata": {},
     "output_type": "execute_result"
    }
   ],
   "source": [
    "import torch\n",
    "\n",
    "#虚拟测试模型\n",
    "model = torch.nn.Linear(3, 2)\n",
    "\n",
    "model"
   ]
  },
  {
   "cell_type": "code",
   "execution_count": 2,
   "id": "0790f4f3",
   "metadata": {},
   "outputs": [],
   "source": [
    "#保存参数到磁盘\n",
    "torch.save(model.state_dict(), 'temp.model')"
   ]
  },
  {
   "cell_type": "code",
   "execution_count": 3,
   "id": "96265bcc",
   "metadata": {},
   "outputs": [
    {
     "data": {
      "text/plain": [
       "<All keys matched successfully>"
      ]
     },
     "execution_count": 3,
     "metadata": {},
     "output_type": "execute_result"
    }
   ],
   "source": [
    "#加载模型参数\n",
    "model.load_state_dict(torch.load('temp.model'))"
   ]
  }
 ],
 "metadata": {
  "kernelspec": {
   "display_name": "Python [conda env:pt2]",
   "language": "python",
   "name": "conda-env-pt2-py"
  },
  "language_info": {
   "codemirror_mode": {
    "name": "ipython",
    "version": 3
   },
   "file_extension": ".py",
   "mimetype": "text/x-python",
   "name": "python",
   "nbconvert_exporter": "python",
   "pygments_lexer": "ipython3",
   "version": "3.10.11"
  }
 },
 "nbformat": 4,
 "nbformat_minor": 5
}
