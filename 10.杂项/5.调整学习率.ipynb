{
 "cells": [
  {
   "cell_type": "code",
   "execution_count": 1,
   "id": "dc0133d2",
   "metadata": {},
   "outputs": [
    {
     "data": {
      "text/plain": [
       "Linear(in_features=2, out_features=3, bias=True)"
      ]
     },
     "execution_count": 1,
     "metadata": {},
     "output_type": "execute_result"
    }
   ],
   "source": [
    "import torch\n",
    "\n",
    "#虚拟测试模型\n",
    "model = torch.nn.Linear(2, 3)\n",
    "\n",
    "model"
   ]
  },
  {
   "cell_type": "code",
   "execution_count": 2,
   "id": "90973cd0",
   "metadata": {},
   "outputs": [
    {
     "data": {
      "text/plain": [
       "100.0"
      ]
     },
     "execution_count": 2,
     "metadata": {},
     "output_type": "execute_result"
    }
   ],
   "source": [
    "#虚拟优化器\n",
    "optimizer = torch.optim.SGD(model.parameters(), lr=100.0)\n",
    "\n",
    "#查看lr\n",
    "optimizer.param_groups[-1]['lr']"
   ]
  },
  {
   "cell_type": "code",
   "execution_count": 3,
   "id": "8395ab82",
   "metadata": {},
   "outputs": [
    {
     "name": "stdout",
     "output_type": "stream",
     "text": [
      "0 100.0\n",
      "1 50.0\n",
      "2 50.0\n",
      "3 25.0\n",
      "4 25.0\n",
      "5 12.5\n",
      "6 12.5\n",
      "7 6.25\n",
      "8 6.25\n",
      "9 3.125\n"
     ]
    }
   ],
   "source": [
    "#创建lr调整器,每2步把lr折半\n",
    "scheduler = torch.optim.lr_scheduler.StepLR(optimizer, step_size=2, gamma=0.5)\n",
    "\n",
    "#虚拟10次训练\n",
    "for i in range(10):\n",
    "    optimizer.step()\n",
    "    scheduler.step()\n",
    "\n",
    "    #查看lr\n",
    "    print(i, optimizer.param_groups[-1]['lr'])"
   ]
  }
 ],
 "metadata": {
  "kernelspec": {
   "display_name": "Python [conda env:pt2]",
   "language": "python",
   "name": "conda-env-pt2-py"
  },
  "language_info": {
   "codemirror_mode": {
    "name": "ipython",
    "version": 3
   },
   "file_extension": ".py",
   "mimetype": "text/x-python",
   "name": "python",
   "nbconvert_exporter": "python",
   "pygments_lexer": "ipython3",
   "version": "3.10.11"
  }
 },
 "nbformat": 4,
 "nbformat_minor": 5
}
