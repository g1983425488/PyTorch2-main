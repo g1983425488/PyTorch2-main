{
 "cells": [
  {
   "cell_type": "code",
   "execution_count": 1,
   "id": "c8e6fd4f",
   "metadata": {},
   "outputs": [
    {
     "data": {
      "text/plain": [
       "(60000, 60000, torch.Size([3, 32, 32]), 9)"
      ]
     },
     "execution_count": 1,
     "metadata": {},
     "output_type": "execute_result"
    }
   ],
   "source": [
    "import torch\n",
    "\n",
    "\n",
    "def load_data():\n",
    "    import PIL.Image\n",
    "    import numpy as np\n",
    "    import os\n",
    "\n",
    "    xs = []\n",
    "    ys = []\n",
    "\n",
    "    #遍历文件夹下的所有文件\n",
    "    for filename in os.listdir('data/cifar10'):\n",
    "\n",
    "        #只要图片,过滤一些无关的文件\n",
    "        if not filename.endswith('.jpg'):\n",
    "            continue\n",
    "\n",
    "        #读取图片信息\n",
    "        x = PIL.Image.open('data/cifar10/%s' % filename)\n",
    "\n",
    "        #转矩阵,数值压缩到0-1之间\n",
    "        x = torch.FloatTensor(np.array(x)) / 255\n",
    "\n",
    "        #变形,把通道放前面\n",
    "        #[32, 32, 3] -> [3, 32, 32]\n",
    "        x = x.permute(2, 0, 1)\n",
    "\n",
    "        #y来自文件名的第一个字符\n",
    "        y = int(filename[0])\n",
    "\n",
    "        xs.append(x)\n",
    "        ys.append(y)\n",
    "\n",
    "    return xs, ys\n",
    "\n",
    "\n",
    "xs, ys = load_data()\n",
    "\n",
    "len(xs), len(ys), xs[0].shape, ys[0]"
   ]
  },
  {
   "cell_type": "code",
   "execution_count": 2,
   "id": "968aff8c",
   "metadata": {},
   "outputs": [
    {
     "data": {
      "text/plain": [
       "(60000, torch.Size([3, 32, 32]), 9)"
      ]
     },
     "execution_count": 2,
     "metadata": {},
     "output_type": "execute_result"
    }
   ],
   "source": [
    "#定义数据集\n",
    "class Dataset(torch.utils.data.Dataset):\n",
    "\n",
    "    def __len__(self):\n",
    "        return len(xs)\n",
    "\n",
    "    def __getitem__(self, i):\n",
    "        return xs[i], ys[i]\n",
    "\n",
    "\n",
    "dataset = Dataset()\n",
    "\n",
    "x, y = dataset[0]\n",
    "\n",
    "len(dataset), x.shape, y"
   ]
  },
  {
   "cell_type": "code",
   "execution_count": 3,
   "id": "11a9c96d",
   "metadata": {
    "scrolled": true
   },
   "outputs": [
    {
     "data": {
      "text/plain": [
       "(7500, torch.Size([8, 3, 32, 32]), tensor([5, 1, 6, 6, 4, 7, 5, 1]))"
      ]
     },
     "execution_count": 3,
     "metadata": {},
     "output_type": "execute_result"
    }
   ],
   "source": [
    "#数据加载器\n",
    "loader = torch.utils.data.DataLoader(dataset=dataset,\n",
    "                                     batch_size=8,\n",
    "                                     shuffle=True,\n",
    "                                     drop_last=True)\n",
    "\n",
    "x, y = next(iter(loader))\n",
    "\n",
    "len(loader), x.shape, y"
   ]
  },
  {
   "cell_type": "code",
   "execution_count": 4,
   "id": "b92796dc",
   "metadata": {},
   "outputs": [
    {
     "data": {
      "text/plain": [
       "torch.Size([8, 10])"
      ]
     },
     "execution_count": 4,
     "metadata": {},
     "output_type": "execute_result"
    }
   ],
   "source": [
    "#cnn神经网络\n",
    "class Model(torch.nn.Module):\n",
    "\n",
    "    def __init__(self):\n",
    "        super().__init__()\n",
    "\n",
    "        #520的卷积层\n",
    "        self.cnn1 = torch.nn.Conv2d(in_channels=3,\n",
    "                                    out_channels=16,\n",
    "                                    kernel_size=5,\n",
    "                                    stride=2,\n",
    "                                    padding=0)\n",
    "\n",
    "        #311的卷积层\n",
    "        self.cnn2 = torch.nn.Conv2d(in_channels=16,\n",
    "                                    out_channels=32,\n",
    "                                    kernel_size=3,\n",
    "                                    stride=1,\n",
    "                                    padding=1)\n",
    "\n",
    "        #710的卷积层\n",
    "        self.cnn3 = torch.nn.Conv2d(in_channels=32,\n",
    "                                    out_channels=128,\n",
    "                                    kernel_size=7,\n",
    "                                    stride=1,\n",
    "                                    padding=0)\n",
    "\n",
    "        #池化层\n",
    "        self.pool = torch.nn.MaxPool2d(kernel_size=2, stride=2)\n",
    "\n",
    "        #激活函数\n",
    "        self.relu = torch.nn.ReLU()\n",
    "\n",
    "        #线性输出层\n",
    "        self.fc = torch.nn.Linear(in_features=128, out_features=10)\n",
    "\n",
    "    def forward(self, x):\n",
    "\n",
    "        #第一次卷积,形状变化可以推演\n",
    "        #[8, 3, 32, 32] -> [8, 16, 14, 14]\n",
    "        x = self.cnn1(x)\n",
    "        x = self.relu(x)\n",
    "\n",
    "        #第二次卷积,因为是311的卷积,所以尺寸不变\n",
    "        #[8, 16, 14, 14] -> [8, 32, 14, 14]\n",
    "        x = self.cnn2(x)\n",
    "        x = self.relu(x)\n",
    "\n",
    "        #池化,尺寸减半\n",
    "        #[8, 32, 14, 14] -> [8, 32, 7, 7]\n",
    "        x = self.pool(x)\n",
    "\n",
    "        #第三次卷积,因为核心是7,所以只有一步计算\n",
    "        #[8, 32, 7, 7] -> [8, 128, 1, 1]\n",
    "        x = self.cnn3(x)\n",
    "        x = self.relu(x)\n",
    "\n",
    "        #展平,便于线性计算,也相当于把图像变成向量\n",
    "        #[8, 128, 1, 1] -> [8, 128]\n",
    "        x = x.flatten(start_dim=1)\n",
    "\n",
    "        #线性计算输出\n",
    "        #[8, 128] -> [8, 10]\n",
    "        return self.fc(x)\n",
    "\n",
    "\n",
    "model = Model()\n",
    "\n",
    "model(torch.randn(8, 3, 32, 32)).shape"
   ]
  },
  {
   "cell_type": "code",
   "execution_count": 5,
   "id": "73fb10a9",
   "metadata": {
    "scrolled": false
   },
   "outputs": [
    {
     "name": "stdout",
     "output_type": "stream",
     "text": [
      "0 0 2.276381254196167 0.0\n",
      "0 2000 1.7430951595306396 0.375\n",
      "0 4000 1.50967276096344 0.5\n",
      "0 6000 1.379901647567749 0.625\n",
      "1 0 0.7615889310836792 0.75\n",
      "1 2000 0.7796550393104553 0.75\n",
      "1 4000 0.9899455308914185 0.625\n",
      "1 6000 1.0108083486557007 0.5\n",
      "2 0 1.21652352809906 0.25\n",
      "2 2000 0.9723398685455322 0.625\n",
      "2 4000 0.6790870428085327 0.75\n",
      "2 6000 1.51291823387146 0.5\n",
      "3 0 0.6330904960632324 0.75\n",
      "3 2000 1.2843165397644043 0.75\n",
      "3 4000 1.1586779356002808 0.625\n",
      "3 6000 0.5945857763290405 0.75\n",
      "4 0 1.0815905332565308 0.625\n",
      "4 2000 0.8424673080444336 0.625\n",
      "4 4000 0.6966819763183594 0.75\n",
      "4 6000 0.9041645526885986 0.5\n"
     ]
    }
   ],
   "source": [
    "#训练\n",
    "def train():\n",
    "    optimizer = torch.optim.Adam(model.parameters(), lr=1e-3)\n",
    "    loss_fun = torch.nn.CrossEntropyLoss()\n",
    "    model.train()\n",
    "\n",
    "    for epoch in range(5):\n",
    "        for i, (x, y) in enumerate(loader):\n",
    "            out = model(x)\n",
    "            loss = loss_fun(out, y)\n",
    "\n",
    "            loss.backward()\n",
    "            optimizer.step()\n",
    "            optimizer.zero_grad()\n",
    "\n",
    "            if i % 2000 == 0:\n",
    "                acc = (out.argmax(dim=1) == y).sum().item() / len(y)\n",
    "                print(epoch, i, loss.item(), acc)\n",
    "\n",
    "    torch.save(model, 'model/5.model')\n",
    "\n",
    "\n",
    "train()"
   ]
  },
  {
   "cell_type": "code",
   "execution_count": 6,
   "id": "97fe2ce2",
   "metadata": {},
   "outputs": [
    {
     "name": "stdout",
     "output_type": "stream",
     "text": [
      "0.785\n"
     ]
    }
   ],
   "source": [
    "#测试\n",
    "@torch.no_grad()\n",
    "def test():\n",
    "    model = torch.load('model/5.model')\n",
    "    model.eval()\n",
    "\n",
    "    correct = 0\n",
    "    total = 0\n",
    "    for i in range(100):\n",
    "        x, y = next(iter(loader))\n",
    "\n",
    "        out = model(x).argmax(dim=1)\n",
    "\n",
    "        correct += (out == y).sum().item()\n",
    "        total += len(y)\n",
    "\n",
    "    print(correct / total)\n",
    "\n",
    "\n",
    "test()"
   ]
  }
 ],
 "metadata": {
  "kernelspec": {
   "display_name": "Python [conda env:pt2]",
   "language": "python",
   "name": "conda-env-pt2-py"
  },
  "language_info": {
   "codemirror_mode": {
    "name": "ipython",
    "version": 3
   },
   "file_extension": ".py",
   "mimetype": "text/x-python",
   "name": "python",
   "nbconvert_exporter": "python",
   "pygments_lexer": "ipython3",
   "version": "3.10.11"
  }
 },
 "nbformat": 4,
 "nbformat_minor": 5
}
