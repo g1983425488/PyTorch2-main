{
 "cells": [
  {
   "cell_type": "code",
   "execution_count": 1,
   "id": "6547c14a",
   "metadata": {},
   "outputs": [
    {
     "data": {
      "text/plain": [
       "(0.5184137805253416, 0.26786610058702154, 0.13886547787989925)"
      ]
     },
     "execution_count": 1,
     "metadata": {},
     "output_type": "execute_result"
    }
   ],
   "source": [
    "#生成矩形数据的函数\n",
    "def get_rectangle():\n",
    "    import random\n",
    "\n",
    "    #随机得到矩形的宽和高,值域0-1之间的小数\n",
    "    width = random.random()\n",
    "    height = random.random()\n",
    "\n",
    "    #计算面积\n",
    "    s = width * height\n",
    "\n",
    "    return width, height, s\n",
    "\n",
    "\n",
    "get_rectangle()"
   ]
  },
  {
   "cell_type": "code",
   "execution_count": 2,
   "id": "0b855903",
   "metadata": {},
   "outputs": [
    {
     "data": {
      "text/plain": [
       "(500, (tensor([0.4518, 0.0109]), tensor([0.0049])))"
      ]
     },
     "execution_count": 2,
     "metadata": {},
     "output_type": "execute_result"
    }
   ],
   "source": [
    "import torch\n",
    "\n",
    "\n",
    "#定义数据集\n",
    "class Dataset(torch.utils.data.Dataset):\n",
    "\n",
    "    #正常应该在这里执行数据的加载,处理等工作\n",
    "    def __init__(self):\n",
    "        pass\n",
    "\n",
    "    #定义数据的条数\n",
    "    def __len__(self):\n",
    "        return 500\n",
    "\n",
    "    #根据序号i,获取一条数据\n",
    "    def __getitem__(self, i):\n",
    "        #获取一个矩形的数据\n",
    "        width, height, s = get_rectangle()\n",
    "\n",
    "        #定义宽高为x,定义面积为y\n",
    "        x = torch.FloatTensor([width, height])\n",
    "        y = torch.FloatTensor([s])\n",
    "\n",
    "        return x, y\n",
    "\n",
    "\n",
    "dataset = Dataset()\n",
    "\n",
    "len(dataset), dataset[0]"
   ]
  },
  {
   "cell_type": "code",
   "execution_count": 3,
   "id": "b5fd0e99",
   "metadata": {
    "scrolled": true
   },
   "outputs": [
    {
     "data": {
      "text/plain": [
       "(62,\n",
       " [tensor([[0.3174, 0.8914],\n",
       "          [0.0360, 0.5670],\n",
       "          [0.1893, 0.5694],\n",
       "          [0.6303, 0.6357],\n",
       "          [0.3546, 0.4646],\n",
       "          [0.8690, 0.9435],\n",
       "          [0.6486, 0.0783],\n",
       "          [0.8166, 0.8570]]),\n",
       "  tensor([[0.2829],\n",
       "          [0.0204],\n",
       "          [0.1078],\n",
       "          [0.4007],\n",
       "          [0.1648],\n",
       "          [0.8199],\n",
       "          [0.0508],\n",
       "          [0.6998]])])"
      ]
     },
     "execution_count": 3,
     "metadata": {},
     "output_type": "execute_result"
    }
   ],
   "source": [
    "#数据集加载器,每8条数据为一个批次,打乱顺序,不足8条时丢弃尾数\n",
    "loader = torch.utils.data.DataLoader(dataset=dataset,\n",
    "                                     batch_size=8,\n",
    "                                     shuffle=True,\n",
    "                                     drop_last=True)\n",
    "\n",
    "len(loader), next(iter(loader))"
   ]
  },
  {
   "cell_type": "code",
   "execution_count": 4,
   "id": "42a20247",
   "metadata": {},
   "outputs": [
    {
     "data": {
      "text/plain": [
       "torch.Size([8, 1])"
      ]
     },
     "execution_count": 4,
     "metadata": {},
     "output_type": "execute_result"
    }
   ],
   "source": [
    "#全连接神经网络\n",
    "class Model(torch.nn.Module):\n",
    "\n",
    "    #模型初始化部分\n",
    "    def __init__(self):\n",
    "        super().__init__()\n",
    "\n",
    "        #定义神经网络结构\n",
    "        self.fc = torch.nn.Sequential(\n",
    "            torch.nn.Linear(in_features=2, out_features=32),\n",
    "            torch.nn.ReLU(),\n",
    "            torch.nn.Linear(in_features=32, out_features=32),\n",
    "            torch.nn.ReLU(),\n",
    "            torch.nn.Linear(in_features=32, out_features=1),\n",
    "        )\n",
    "\n",
    "    #定义神经网络计算过程\n",
    "    def forward(self, x):\n",
    "        return self.fc(x)\n",
    "\n",
    "\n",
    "model = Model()\n",
    "\n",
    "model(torch.randn(8, 2)).shape"
   ]
  },
  {
   "cell_type": "code",
   "execution_count": 5,
   "id": "233d2672",
   "metadata": {
    "scrolled": false
   },
   "outputs": [
    {
     "name": "stdout",
     "output_type": "stream",
     "text": [
      "0 0.15631675720214844\n",
      "20 0.0009868389461189508\n",
      "40 0.0007930236752144992\n",
      "60 0.0002548572374507785\n",
      "80 4.957337296218611e-05\n"
     ]
    }
   ],
   "source": [
    "#训练\n",
    "def train():\n",
    "    #优化器,根据梯度调整模型参数\n",
    "    optimizer = torch.optim.Adam(model.parameters(), lr=1e-4)\n",
    "\n",
    "    #计算loss的函数\n",
    "    loss_fun = torch.nn.MSELoss()\n",
    "\n",
    "    #让model进入train模式,开启dropout等功能\n",
    "    model.train()\n",
    "\n",
    "    #全量数据遍历100轮\n",
    "    for epoch in range(100):\n",
    "\n",
    "        #按批次遍历loader中的数据\n",
    "        for i, (x, y) in enumerate(loader):\n",
    "\n",
    "            #模型计算\n",
    "            out = model(x)\n",
    "\n",
    "            #根据计算结果和y的差,计算loss,在计算结果完全正确的情况下,loss为0\n",
    "            loss = loss_fun(out, y)\n",
    "\n",
    "            #根据loss计算模型的梯度\n",
    "            loss.backward()\n",
    "\n",
    "            #根据梯度调整模型的参数\n",
    "            optimizer.step()\n",
    "\n",
    "            #梯度归零,准备下一轮的计算\n",
    "            optimizer.zero_grad()\n",
    "\n",
    "        if epoch % 20 == 0:\n",
    "            print(epoch, loss.item())\n",
    "            \n",
    "    #保存模型到磁盘\n",
    "    torch.save(model, 'model/4.model')\n",
    "\n",
    "\n",
    "train()"
   ]
  },
  {
   "cell_type": "code",
   "execution_count": 6,
   "id": "4a1135ca",
   "metadata": {},
   "outputs": [
    {
     "name": "stdout",
     "output_type": "stream",
     "text": [
      "tensor([[0.0931, 0.0875],\n",
      "        [0.1399, 0.1377],\n",
      "        [0.6393, 0.6347],\n",
      "        [0.0492, 0.0516],\n",
      "        [0.2065, 0.2130],\n",
      "        [0.3257, 0.3235],\n",
      "        [0.2503, 0.2601],\n",
      "        [0.7016, 0.7113]])\n"
     ]
    }
   ],
   "source": [
    "#测试\n",
    "#注释的表明不计算模型梯度,节省计算资源\n",
    "@torch.no_grad()\n",
    "def test():\n",
    "    \n",
    "    #从磁盘加载模型\n",
    "    model = torch.load('model/4.model')\n",
    "\n",
    "    #模型进入测试模式,关闭dropout等功能\n",
    "    model.eval()\n",
    "\n",
    "    #获取一批数据\n",
    "    x, y = next(iter(loader))\n",
    "\n",
    "    #模型计算结果\n",
    "    out = model(x)\n",
    "\n",
    "    print(torch.cat([out, y], dim=1))\n",
    "\n",
    "\n",
    "test()"
   ]
  }
 ],
 "metadata": {
  "kernelspec": {
   "display_name": "Python [conda env:pt2]",
   "language": "python",
   "name": "conda-env-pt2-py"
  },
  "language_info": {
   "codemirror_mode": {
    "name": "ipython",
    "version": 3
   },
   "file_extension": ".py",
   "mimetype": "text/x-python",
   "name": "python",
   "nbconvert_exporter": "python",
   "pygments_lexer": "ipython3",
   "version": "3.10.11"
  }
 },
 "nbformat": 4,
 "nbformat_minor": 5
}
