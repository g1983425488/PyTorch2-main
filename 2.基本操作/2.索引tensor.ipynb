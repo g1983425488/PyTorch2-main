{
 "cells": [
  {
   "cell_type": "code",
   "execution_count": 1,
   "metadata": {},
   "outputs": [
    {
     "data": {
      "text/plain": [
       "torch.Size([4, 3, 28, 28])"
      ]
     },
     "execution_count": 1,
     "metadata": {},
     "output_type": "execute_result"
    }
   ],
   "source": [
    "import torch\n",
    "\n",
    "#创建测试数据\n",
    "#4张图片,3通道,28*28像素\n",
    "a = torch.randn(4, 3, 28, 28)\n",
    "\n",
    "a.shape"
   ]
  },
  {
   "cell_type": "code",
   "execution_count": 2,
   "metadata": {},
   "outputs": [
    {
     "name": "stdout",
     "output_type": "stream",
     "text": [
      "torch.Size([3, 28, 28])\n",
      "torch.Size([28, 28])\n",
      "torch.Size([28])\n",
      "torch.Size([])\n"
     ]
    }
   ],
   "source": [
    "#直接索引\n",
    "\n",
    "#查看第0张图片\n",
    "print(a[0].shape)\n",
    "\n",
    "#查看第0张图片的第0个通道\n",
    "print(a[0, 0].shape)\n",
    "\n",
    "#查看第0张图片的第0个通道的第2行\n",
    "print(a[0, 0, 2].shape)\n",
    "\n",
    "#查看第0张图片的第0个通道的第2行第4列\n",
    "print(a[0, 0, 2, 4].shape)"
   ]
  },
  {
   "cell_type": "code",
   "execution_count": 3,
   "metadata": {},
   "outputs": [
    {
     "name": "stdout",
     "output_type": "stream",
     "text": [
      "torch.Size([2, 3, 28, 28])\n",
      "torch.Size([2, 2, 28, 28])\n",
      "torch.Size([2, 3, 2, 28])\n",
      "torch.Size([4, 3, 28, 14])\n"
     ]
    }
   ],
   "source": [
    "#切片\n",
    "\n",
    "#查看0-1张图片\n",
    "print(a[:2].shape)\n",
    "\n",
    "#查看0-1张图片的0-1通道\n",
    "print(a[:2, :2].shape)\n",
    "\n",
    "#查看0-1张图片的所有通道的倒数5-正数24行\n",
    "print(a[:2, :, -5:25].shape)\n",
    "\n",
    "#有间隔的索引\n",
    "print(a[:, :, :, ::2].shape)"
   ]
  },
  {
   "cell_type": "code",
   "execution_count": 4,
   "metadata": {},
   "outputs": [
    {
     "name": "stdout",
     "output_type": "stream",
     "text": [
      "torch.Size([4, 3, 28, 2])\n",
      "torch.Size([4, 3, 2, 28])\n",
      "torch.Size([3, 28, 28])\n"
     ]
    }
   ],
   "source": [
    "#用...表示多个被省略的:\n",
    "\n",
    "#取所有图片的第0-2列\n",
    "print(a[..., :2].shape)\n",
    "\n",
    "#取所有图片的第0-2行\n",
    "print(a[..., :2, :].shape)\n",
    "\n",
    "#取第2张图片\n",
    "print(a[2, ...].shape)"
   ]
  }
 ],
 "metadata": {
  "kernelspec": {
   "display_name": "Python [conda env:pt2]",
   "language": "python",
   "name": "conda-env-pt2-py"
  },
  "language_info": {
   "codemirror_mode": {
    "name": "ipython",
    "version": 3
   },
   "file_extension": ".py",
   "mimetype": "text/x-python",
   "name": "python",
   "nbconvert_exporter": "python",
   "pygments_lexer": "ipython3",
   "version": "3.10.11"
  }
 },
 "nbformat": 4,
 "nbformat_minor": 2
}
