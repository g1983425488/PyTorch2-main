{
 "cells": [
  {
   "cell_type": "code",
   "execution_count": 1,
   "metadata": {},
   "outputs": [
    {
     "name": "stdout",
     "output_type": "stream",
     "text": [
      "torch.Size([4, 1, 28, 28])\n",
      "torch.Size([4, 784])\n",
      "torch.Size([4, 28, 28])\n",
      "torch.Size([4, 784])\n"
     ]
    }
   ],
   "source": [
    "import torch\n",
    "\n",
    "#view,reshape维度变换\n",
    "\n",
    "#4张图片,单通道,28*28像素\n",
    "a = torch.randn(4, 1, 28, 28)\n",
    "print(a.shape)\n",
    "\n",
    "#转换为4,784维度,相当于打平了\n",
    "print(a.reshape(4, 784).shape)\n",
    "\n",
    "#转换为4,28,28维度,相当于重新展开\n",
    "print((a.reshape(4, 784)).reshape(4, 28, 28).shape)\n",
    "\n",
    "#view的用法和reshape是完全一样的')\n",
    "print(a.view(4, 784).shape)"
   ]
  },
  {
   "cell_type": "code",
   "execution_count": 2,
   "metadata": {},
   "outputs": [
    {
     "name": "stdout",
     "output_type": "stream",
     "text": [
      "torch.Size([2, 2])\n",
      "torch.Size([1, 2, 2])\n",
      "torch.Size([2, 2, 1])\n"
     ]
    }
   ],
   "source": [
    "#unsqueeze插入维度\n",
    "\n",
    "#2*2的tensor\n",
    "a = torch.randn(2, 2)\n",
    "print(a.shape)\n",
    "\n",
    "#插入维度在第0维\n",
    "print(a.unsqueeze(0).shape)\n",
    "\n",
    "#插入维度在倒数第1维\n",
    "print(a.unsqueeze(-1).shape)"
   ]
  },
  {
   "cell_type": "code",
   "execution_count": 3,
   "metadata": {},
   "outputs": [
    {
     "name": "stdout",
     "output_type": "stream",
     "text": [
      "torch.Size([1, 2, 2, 1])\n",
      "torch.Size([2, 2, 1])\n",
      "torch.Size([1, 2, 2])\n",
      "torch.Size([2, 2])\n"
     ]
    }
   ],
   "source": [
    "#squeeze删除维度,只能删除为1的维度\n",
    "\n",
    "#1*2*2*1的tensor\n",
    "a = torch.randn(1, 2, 2, 1)\n",
    "print(a.shape)\n",
    "\n",
    "#删除第0维\n",
    "print(a.squeeze(0).shape)\n",
    "\n",
    "#删除倒数第1维\n",
    "print(a.squeeze(-1).shape)\n",
    "\n",
    "#删除所有为1的维度\n",
    "print(a.squeeze().shape)"
   ]
  },
  {
   "cell_type": "code",
   "execution_count": 4,
   "metadata": {},
   "outputs": [
    {
     "name": "stdout",
     "output_type": "stream",
     "text": [
      "torch.Size([4, 6])\n"
     ]
    }
   ],
   "source": [
    "#repeat复制维度\n",
    "\n",
    "#分别复制2次和3次\n",
    "print(torch.randn(2, 2).repeat(2, 3).shape)"
   ]
  },
  {
   "cell_type": "code",
   "execution_count": 5,
   "metadata": {},
   "outputs": [
    {
     "name": "stdout",
     "output_type": "stream",
     "text": [
      "torch.Size([2, 1])\n",
      "torch.Size([2, 1, 3])\n",
      "torch.Size([3, 2, 1])\n"
     ]
    }
   ],
   "source": [
    "#维度交换\n",
    "\n",
    "#t转置,只能操作2维tensor\n",
    "print(torch.randn(1, 2).t().shape)\n",
    "\n",
    "#transpose维度交换,指定要转换的维度,只能两两交换\n",
    "print(torch.randn(1, 2, 3).transpose(0, 1).shape)\n",
    "\n",
    "#permute维度交换,输入维度的顺序\n",
    "print(torch.rand(1, 2, 3).permute(2, 1, 0).shape)"
   ]
  }
 ],
 "metadata": {
  "kernelspec": {
   "display_name": "Python [conda env:pt2]",
   "language": "python",
   "name": "conda-env-pt2-py"
  },
  "language_info": {
   "codemirror_mode": {
    "name": "ipython",
    "version": 3
   },
   "file_extension": ".py",
   "mimetype": "text/x-python",
   "name": "python",
   "nbconvert_exporter": "python",
   "pygments_lexer": "ipython3",
   "version": "3.10.11"
  }
 },
 "nbformat": 4,
 "nbformat_minor": 2
}
