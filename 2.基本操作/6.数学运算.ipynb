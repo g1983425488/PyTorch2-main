{
 "cells": [
  {
   "cell_type": "code",
   "execution_count": 1,
   "metadata": {},
   "outputs": [
    {
     "data": {
      "text/plain": [
       "(tensor([[0., 1., 2.],\n",
       "         [3., 4., 5.]]),\n",
       " tensor([0., 1., 2.]))"
      ]
     },
     "execution_count": 1,
     "metadata": {},
     "output_type": "execute_result"
    }
   ],
   "source": [
    "import torch\n",
    "\n",
    "#测试数据\n",
    "a = torch.FloatTensor([[0, 1, 2], [3, 4, 5]])\n",
    "b = torch.FloatTensor([0, 1, 2])\n",
    "\n",
    "a, b"
   ]
  },
  {
   "cell_type": "code",
   "execution_count": 2,
   "metadata": {},
   "outputs": [
    {
     "name": "stdout",
     "output_type": "stream",
     "text": [
      "tensor([[0., 2., 4.],\n",
      "        [3., 5., 7.]])\n",
      "tensor([[0., 0., 0.],\n",
      "        [3., 3., 3.]])\n",
      "tensor([[ 0.,  1.,  4.],\n",
      "        [ 0.,  4., 10.]])\n",
      "tensor([[   nan, 1.0000, 1.0000],\n",
      "        [   inf, 4.0000, 2.5000]])\n"
     ]
    }
   ],
   "source": [
    "#四则运算\n",
    "print(a + b)\n",
    "print(a - b)\n",
    "print(a * b)\n",
    "print(a / b)"
   ]
  },
  {
   "cell_type": "code",
   "execution_count": 3,
   "metadata": {},
   "outputs": [
    {
     "name": "stdout",
     "output_type": "stream",
     "text": [
      "tensor([ 5., 14.])\n",
      "tensor([ 5., 14.])\n"
     ]
    },
    {
     "data": {
      "text/plain": [
       "(5, 14)"
      ]
     },
     "execution_count": 3,
     "metadata": {},
     "output_type": "execute_result"
    }
   ],
   "source": [
    "#矩阵乘法\n",
    "print(a @ b)\n",
    "print(a.matmul(b))\n",
    "\n",
    "#计算过程\n",
    "0 * 0 + 1 * 1 + 2 * 2, 0 * 3 + 1 * 4 + 2 * 5"
   ]
  },
  {
   "cell_type": "code",
   "execution_count": 4,
   "metadata": {},
   "outputs": [
    {
     "name": "stdout",
     "output_type": "stream",
     "text": [
      "tensor([[ 0.,  1.,  4.],\n",
      "        [ 9., 16., 25.]])\n",
      "tensor([[0.0000, 1.0000, 1.4142],\n",
      "        [1.7321, 2.0000, 2.2361]])\n",
      "tensor([[  1.0000,   2.7183,   7.3891],\n",
      "        [ 20.0855,  54.5981, 148.4132]])\n",
      "tensor([[  -inf, 0.0000, 0.6931],\n",
      "        [1.0986, 1.3863, 1.6094]])\n",
      "tensor([[  -inf, 0.0000, 1.0000],\n",
      "        [1.5850, 2.0000, 2.3219]])\n"
     ]
    }
   ],
   "source": [
    "#指数,对数运算\n",
    "\n",
    "#求指数\n",
    "print(a**2)\n",
    "\n",
    "#开根号\n",
    "print(a**0.5)\n",
    "\n",
    "#求e的n次方\n",
    "print(a.exp())\n",
    "\n",
    "#以e为底,求对数\n",
    "print(a.log())\n",
    "\n",
    "#以2为底,求对数\n",
    "print(a.log2())"
   ]
  },
  {
   "cell_type": "code",
   "execution_count": 5,
   "metadata": {},
   "outputs": [
    {
     "data": {
      "text/plain": [
       "tensor([[2., 2., 2.],\n",
       "        [3., 4., 4.]])"
      ]
     },
     "execution_count": 5,
     "metadata": {},
     "output_type": "execute_result"
    }
   ],
   "source": [
    "#裁剪,限制数据的上下限\n",
    "a.clamp(2, 4)"
   ]
  },
  {
   "cell_type": "code",
   "execution_count": 6,
   "metadata": {},
   "outputs": [
    {
     "name": "stdout",
     "output_type": "stream",
     "text": [
      "tensor([[False, False, False],\n",
      "        [ True,  True,  True]])\n",
      "tensor([[False, False, False],\n",
      "        [False, False, False]])\n",
      "tensor([[ True,  True,  True],\n",
      "        [False, False, False]])\n",
      "tensor([[False, False, False],\n",
      "        [ True,  True,  True]])\n"
     ]
    }
   ],
   "source": [
    "#逻辑运算\n",
    "\n",
    "#大于\n",
    "print(a > b)\n",
    "\n",
    "#小于\n",
    "print(a < b)\n",
    "\n",
    "#等于\n",
    "print(a == b)\n",
    "\n",
    "#不等于\n",
    "print(a != b)"
   ]
  },
  {
   "cell_type": "code",
   "execution_count": 7,
   "metadata": {},
   "outputs": [
    {
     "name": "stdout",
     "output_type": "stream",
     "text": [
      "tensor([3.])\n",
      "tensor([4.])\n",
      "tensor([3.])\n"
     ]
    }
   ],
   "source": [
    "#四舍五入\n",
    "c = torch.FloatTensor([3.14])\n",
    "\n",
    "#向下取整\n",
    "print(c.floor())\n",
    "\n",
    "#向上取整\n",
    "print(c.ceil())\n",
    "\n",
    "#四舍五入\n",
    "print(c.round())"
   ]
  }
 ],
 "metadata": {
  "kernelspec": {
   "display_name": "Python [conda env:pt2]",
   "language": "python",
   "name": "conda-env-pt2-py"
  },
  "language_info": {
   "codemirror_mode": {
    "name": "ipython",
    "version": 3
   },
   "file_extension": ".py",
   "mimetype": "text/x-python",
   "name": "python",
   "nbconvert_exporter": "python",
   "pygments_lexer": "ipython3",
   "version": "3.10.11"
  }
 },
 "nbformat": 4,
 "nbformat_minor": 2
}
