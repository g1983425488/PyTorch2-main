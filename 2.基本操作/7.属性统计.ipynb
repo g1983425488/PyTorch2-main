{
 "cells": [
  {
   "cell_type": "code",
   "execution_count": 1,
   "metadata": {},
   "outputs": [
    {
     "data": {
      "text/plain": [
       "tensor([[0., 1., 2.],\n",
       "        [3., 4., 5.]])"
      ]
     },
     "execution_count": 1,
     "metadata": {},
     "output_type": "execute_result"
    }
   ],
   "source": [
    "import torch\n",
    "\n",
    "#测试数据\n",
    "a = torch.FloatTensor([[0., 1., 2.], [3., 4., 5.]])\n",
    "\n",
    "a"
   ]
  },
  {
   "cell_type": "code",
   "execution_count": 2,
   "metadata": {},
   "outputs": [
    {
     "name": "stdout",
     "output_type": "stream",
     "text": [
      "tensor(0.)\n",
      "tensor(5.)\n",
      "tensor(2.5000)\n",
      "tensor(0.)\n",
      "tensor(15.)\n",
      "tensor(5)\n",
      "tensor(0)\n"
     ]
    }
   ],
   "source": [
    "#求最小\n",
    "print(a.min())\n",
    "\n",
    "#求最大\n",
    "print(a.max())\n",
    "\n",
    "#求平均\n",
    "print(a.mean())\n",
    "\n",
    "#求积\n",
    "print(a.prod())\n",
    "\n",
    "#求和\n",
    "print(a.sum())\n",
    "\n",
    "#求最大值下标\n",
    "print(a.argmax())\n",
    "\n",
    "#求最小值下标\n",
    "print(a.argmin())"
   ]
  },
  {
   "cell_type": "code",
   "execution_count": 3,
   "metadata": {},
   "outputs": [
    {
     "data": {
      "text/plain": [
       "torch.return_types.max(\n",
       "values=tensor([3., 4., 5.]),\n",
       "indices=tensor([1, 1, 1]))"
      ]
     },
     "execution_count": 3,
     "metadata": {},
     "output_type": "execute_result"
    }
   ],
   "source": [
    "#分维度求最大\n",
    "a.max(dim=0)"
   ]
  },
  {
   "cell_type": "code",
   "execution_count": 4,
   "metadata": {},
   "outputs": [
    {
     "data": {
      "text/plain": [
       "tensor([1, 1, 1])"
      ]
     },
     "execution_count": 4,
     "metadata": {},
     "output_type": "execute_result"
    }
   ],
   "source": [
    "#分维度求最大值下标\n",
    "a.argmax(dim=0)"
   ]
  },
  {
   "cell_type": "code",
   "execution_count": 5,
   "metadata": {},
   "outputs": [
    {
     "name": "stdout",
     "output_type": "stream",
     "text": [
      "tensor(15.)\n",
      "tensor([3., 5., 7.])\n",
      "tensor(7.4162)\n",
      "tensor([3.0000, 4.1231, 5.3852])\n"
     ]
    }
   ],
   "source": [
    "#求1范数\n",
    "print(a.norm(1))\n",
    "print(a.norm(1, dim=0))\n",
    "\n",
    "#求2范数\n",
    "print(a.norm(2))\n",
    "print(a.norm(2, dim=0))"
   ]
  },
  {
   "cell_type": "code",
   "execution_count": 6,
   "metadata": {},
   "outputs": [
    {
     "data": {
      "text/plain": [
       "torch.return_types.topk(\n",
       "values=tensor([[0., 1.],\n",
       "        [3., 4.]]),\n",
       "indices=tensor([[0, 1],\n",
       "        [0, 1]]))"
      ]
     },
     "execution_count": 6,
     "metadata": {},
     "output_type": "execute_result"
    }
   ],
   "source": [
    "#求前2个最小值\n",
    "a.topk(2, dim=1, largest=False)"
   ]
  },
  {
   "cell_type": "code",
   "execution_count": 7,
   "metadata": {},
   "outputs": [
    {
     "data": {
      "text/plain": [
       "torch.return_types.kthvalue(\n",
       "values=tensor([1., 4.]),\n",
       "indices=tensor([1, 1]))"
      ]
     },
     "execution_count": 7,
     "metadata": {},
     "output_type": "execute_result"
    }
   ],
   "source": [
    "#求第2个小的值\n",
    "a.kthvalue(2, dim=1)"
   ]
  }
 ],
 "metadata": {
  "kernelspec": {
   "display_name": "Python [conda env:pt2]",
   "language": "python",
   "name": "conda-env-pt2-py"
  },
  "language_info": {
   "codemirror_mode": {
    "name": "ipython",
    "version": 3
   },
   "file_extension": ".py",
   "mimetype": "text/x-python",
   "name": "python",
   "nbconvert_exporter": "python",
   "pygments_lexer": "ipython3",
   "version": "3.10.11"
  }
 },
 "nbformat": 4,
 "nbformat_minor": 2
}
