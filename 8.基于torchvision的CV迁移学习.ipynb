{
 "cells": [
  {
   "cell_type": "code",
   "execution_count": 1,
   "id": "968aff8c",
   "metadata": {},
   "outputs": [
    {
     "name": "stdout",
     "output_type": "stream",
     "text": [
      "Files already downloaded and verified\n"
     ]
    },
    {
     "data": {
      "text/plain": [
       "(50000, torch.Size([3, 300, 300]), 19)"
      ]
     },
     "execution_count": 1,
     "metadata": {},
     "output_type": "execute_result"
    }
   ],
   "source": [
    "import torchvision\n",
    "import torch\n",
    "\n",
    "\n",
    "#定义数据集\n",
    "class Dataset(torch.utils.data.Dataset):\n",
    "\n",
    "    def __init__(self, train):\n",
    "\n",
    "        #在线加载数据集\n",
    "        #更多数据集:https://pytorch.org/vision/stable/datasets.html\n",
    "        self.data = torchvision.datasets.CIFAR100(root='data',\n",
    "                                                  train=train,\n",
    "                                                  download=True)\n",
    "\n",
    "        #更多数据增强:https://pytorch.org/vision/stable/transforms.html\n",
    "        self.compose = torchvision.transforms.Compose([\n",
    "\n",
    "            #原本是32*32的,缩放到300*300,这是为了适应预训练模型的习惯,便于它抽取图像特征\n",
    "            torchvision.transforms.Resize(300),\n",
    "\n",
    "            #随机左右翻转,这是一种图像增强,很显然,左右翻转不影响图像的分类结果\n",
    "            torchvision.transforms.RandomHorizontalFlip(p=0.5),\n",
    "\n",
    "            #图像转矩阵数据,值域是0-1之间\n",
    "            torchvision.transforms.ToTensor(),\n",
    "\n",
    "            #让图像的3个通道的数据分别服从3个正态分布,这3分数据是从一个大的数据集上统计得出的\n",
    "            #投影也是为了适应预训练模型的习惯\n",
    "            torchvision.transforms.Normalize(mean=[0.485, 0.456, 0.406],\n",
    "                                             std=[0.229, 0.224, 0.225]),\n",
    "        ])\n",
    "\n",
    "    def __len__(self):\n",
    "        return len(self.data)\n",
    "\n",
    "    def __getitem__(self, i):\n",
    "        #取数据\n",
    "        x, y = self.data[i]\n",
    "\n",
    "        #应用compose,图像转数据\n",
    "        x = self.compose(x)\n",
    "\n",
    "        return x, y\n",
    "\n",
    "\n",
    "dataset = Dataset(train=True)\n",
    "\n",
    "x, y = dataset[0]\n",
    "\n",
    "len(dataset), x.shape, y"
   ]
  },
  {
   "cell_type": "code",
   "execution_count": 2,
   "id": "11a9c96d",
   "metadata": {
    "scrolled": true
   },
   "outputs": [
    {
     "data": {
      "text/plain": [
       "(6250, torch.Size([8, 3, 300, 300]), tensor([50, 54, 98, 51, 77, 96, 72, 81]))"
      ]
     },
     "execution_count": 2,
     "metadata": {},
     "output_type": "execute_result"
    }
   ],
   "source": [
    "import torch\n",
    "\n",
    "\n",
    "#每次从loader获取一批数据时回回调,可以在这里做一些数据整理的工作\n",
    "#这里写的只是个例子,事实上这个回调函数什么也没干..\n",
    "def collate_fn(data):\n",
    "    #取数据\n",
    "    x = [i[0] for i in data]\n",
    "    y = [i[1] for i in data]\n",
    "\n",
    "    #比如可以手动转换数据格式\n",
    "    x = torch.stack(x)\n",
    "    y = torch.LongTensor(y)\n",
    "\n",
    "    return x, y\n",
    "\n",
    "\n",
    "#数据加载器\n",
    "loader = torch.utils.data.DataLoader(dataset=dataset,\n",
    "                                     batch_size=8,\n",
    "                                     shuffle=True,\n",
    "                                     drop_last=True,\n",
    "                                     collate_fn=collate_fn)\n",
    "\n",
    "x, y = next(iter(loader))\n",
    "\n",
    "len(loader), x.shape, y"
   ]
  },
  {
   "cell_type": "code",
   "execution_count": 3,
   "id": "5dc46144",
   "metadata": {},
   "outputs": [
    {
     "data": {
      "text/plain": [
       "(torch.Size([8, 1280]), torch.Size([8, 100]))"
      ]
     },
     "execution_count": 3,
     "metadata": {},
     "output_type": "execute_result"
    }
   ],
   "source": [
    "#定义模型\n",
    "class Model(torch.nn.Module):\n",
    "\n",
    "    def __init__(self):\n",
    "        super().__init__()\n",
    "\n",
    "        #加载预训练模型\n",
    "        #更多模型:https://pytorch.org/vision/stable/models.html#table-of-all-available-classification-weights\n",
    "        pretrained = torchvision.models.efficientnet_v2_s(\n",
    "            weights=torchvision.models.EfficientNet_V2_S_Weights.IMAGENET1K_V1)\n",
    "\n",
    "        #重新组装模型,只要特征抽取部分\n",
    "        pretrained = torch.nn.Sequential(\n",
    "            pretrained.features,\n",
    "            pretrained.avgpool,\n",
    "            torch.nn.Flatten(start_dim=1),\n",
    "        )\n",
    "\n",
    "        #锁定参数,不训练\n",
    "        for param in pretrained.parameters():\n",
    "            param.requires_grad_(False)\n",
    "\n",
    "        pretrained.eval()\n",
    "        self.pretrained = pretrained\n",
    "\n",
    "        #线性输出层,这部分是要重新训练的\n",
    "        self.fc = torch.nn.Sequential(\n",
    "            torch.nn.Linear(1280, 256),\n",
    "            torch.nn.ReLU(),\n",
    "            torch.nn.Linear(256, 256),\n",
    "            torch.nn.ReLU(),\n",
    "            torch.nn.Linear(256, 100),\n",
    "        )\n",
    "\n",
    "    def forward(self, x):\n",
    "        #调用预训练模型抽取参数,因为预训练模型是不训练的,所以这里不需要计算梯度\n",
    "        with torch.no_grad():\n",
    "            #[8, 3, 300, 300] -> [8, 1280]\n",
    "            x = self.pretrained(x)\n",
    "\n",
    "        #计算线性输出\n",
    "        #[8, 1280] -> [8, 100]\n",
    "        return self.fc(x)\n",
    "\n",
    "\n",
    "model = Model()\n",
    "\n",
    "x = torch.randn(8, 3, 300, 300)\n",
    "\n",
    "model.pretrained(x).shape, model(x).shape"
   ]
  },
  {
   "cell_type": "code",
   "execution_count": 4,
   "id": "73fb10a9",
   "metadata": {
    "scrolled": false
   },
   "outputs": [
    {
     "name": "stdout",
     "output_type": "stream",
     "text": [
      "device= cpu\n",
      "0 4.575999736785889 0.0\n",
      "500 2.008819103240967 0.375\n",
      "1000 1.7094812393188477 0.375\n",
      "1500 1.5797361135482788 0.625\n",
      "2000 1.2973026037216187 0.625\n",
      "2500 0.14413447678089142 1.0\n",
      "3000 0.18841417133808136 1.0\n",
      "3500 0.9769234657287598 0.75\n",
      "4000 1.8593720197677612 0.5\n",
      "4500 1.7778254747390747 0.625\n",
      "5000 1.590352177619934 0.375\n",
      "5500 1.5016857385635376 0.625\n",
      "6000 0.43275749683380127 0.875\n"
     ]
    }
   ],
   "source": [
    "#训练\n",
    "def train():\n",
    "    #注意这里的参数列表,只包括要训练的参数即可\n",
    "    optimizer = torch.optim.Adam(model.fc.parameters(), lr=1e-3)\n",
    "    loss_fun = torch.nn.CrossEntropyLoss()\n",
    "    model.fc.train()\n",
    "\n",
    "    #定义计算设备,优先使用gpu\n",
    "    device = 'cuda' if torch.cuda.is_available() else 'cpu'\n",
    "    model.to(device)\n",
    "\n",
    "    print('device=', device)\n",
    "\n",
    "    for i, (x, y) in enumerate(loader):\n",
    "        #如果使用gpu,数据要搬运到显存里\n",
    "        x = x.to(device)\n",
    "        y = y.to(device)\n",
    "\n",
    "        out = model(x)\n",
    "        loss = loss_fun(out, y)\n",
    "\n",
    "        loss.backward()\n",
    "        optimizer.step()\n",
    "        optimizer.zero_grad()\n",
    "\n",
    "        if i % 500 == 0:\n",
    "            acc = (out.argmax(dim=1) == y).sum().item() / len(y)\n",
    "            print(i, loss.item(), acc)\n",
    "\n",
    "    #保存模型,只保存训练的部分即可\n",
    "    torch.save(model.fc.to('cpu'), 'model/8.model')\n",
    "\n",
    "\n",
    "train()"
   ]
  },
  {
   "cell_type": "code",
   "execution_count": 5,
   "id": "97fe2ce2",
   "metadata": {},
   "outputs": [
    {
     "name": "stdout",
     "output_type": "stream",
     "text": [
      "Files already downloaded and verified\n",
      "0.7175\n"
     ]
    }
   ],
   "source": [
    "#测试\n",
    "@torch.no_grad()\n",
    "def test():\n",
    "\n",
    "    #加载保存的模型\n",
    "    model.fc = torch.load('model/8.model')\n",
    "    model.fc.eval()\n",
    "\n",
    "    #加载测试数据集,共10000条数据\n",
    "    loader_test = torch.utils.data.DataLoader(dataset=Dataset(train=False),\n",
    "                                              batch_size=8,\n",
    "                                              shuffle=True,\n",
    "                                              drop_last=True)\n",
    "\n",
    "    correct = 0\n",
    "    total = 0\n",
    "    for i in range(100):\n",
    "        x, y = next(iter(loader_test))\n",
    "\n",
    "        #这里因为数据量不大,使用cpu计算就可以了\n",
    "        out = model(x).argmax(dim=1)\n",
    "\n",
    "        correct += (out == y).sum().item()\n",
    "        total += len(y)\n",
    "\n",
    "    print(correct / total)\n",
    "\n",
    "\n",
    "test()"
   ]
  }
 ],
 "metadata": {
  "kernelspec": {
   "display_name": "Python [conda env:pt2]",
   "language": "python",
   "name": "conda-env-pt2-py"
  },
  "language_info": {
   "codemirror_mode": {
    "name": "ipython",
    "version": 3
   },
   "file_extension": ".py",
   "mimetype": "text/x-python",
   "name": "python",
   "nbconvert_exporter": "python",
   "pygments_lexer": "ipython3",
   "version": "3.10.11"
  }
 },
 "nbformat": 4,
 "nbformat_minor": 5
}
