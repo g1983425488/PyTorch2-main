{
 "cells": [
  {
   "cell_type": "code",
   "execution_count": 1,
   "id": "15592dfc",
   "metadata": {},
   "outputs": [
    {
     "data": {
      "text/plain": [
       "(0.7363799113739945, 0.04611079149918318, 1)"
      ]
     },
     "execution_count": 1,
     "metadata": {},
     "output_type": "execute_result"
    }
   ],
   "source": [
    "#生成矩形数据的函数\n",
    "def get_rectangle():\n",
    "    import random\n",
    "\n",
    "    #随机得到矩形的宽和高,值域0-1之间的小数\n",
    "    width = random.random()\n",
    "    height = random.random()\n",
    "\n",
    "    #判断这是否是一个\"胖\"的矩形\n",
    "    fat = int(width >= height)\n",
    "\n",
    "    return width, height, fat\n",
    "\n",
    "\n",
    "get_rectangle()"
   ]
  },
  {
   "cell_type": "code",
   "execution_count": 2,
   "id": "16913f85",
   "metadata": {},
   "outputs": [
    {
     "data": {
      "text/plain": [
       "(500, (tensor([0.2017, 0.8151]), 0))"
      ]
     },
     "execution_count": 2,
     "metadata": {},
     "output_type": "execute_result"
    }
   ],
   "source": [
    "import torch\n",
    "\n",
    "\n",
    "#定义数据集\n",
    "class Dataset(torch.utils.data.Dataset):\n",
    "\n",
    "    #正常应该在这里执行数据的加载,处理等工作\n",
    "    def __init__(self):\n",
    "        pass\n",
    "\n",
    "    #定义数据的条数\n",
    "    def __len__(self):\n",
    "        return 500\n",
    "\n",
    "    #根据序号i,获取一条数据\n",
    "    def __getitem__(self, i):\n",
    "        #获取一个矩形的数据\n",
    "        width, height, fat = get_rectangle()\n",
    "\n",
    "        #定义宽高为x,定义是否胖为y\n",
    "        x = torch.FloatTensor([width, height])\n",
    "        y = fat\n",
    "\n",
    "        return x, y\n",
    "\n",
    "\n",
    "dataset = Dataset()\n",
    "\n",
    "len(dataset), dataset[0]"
   ]
  },
  {
   "cell_type": "code",
   "execution_count": 3,
   "id": "b5fd0e99",
   "metadata": {
    "scrolled": true
   },
   "outputs": [
    {
     "data": {
      "text/plain": [
       "(62,\n",
       " [tensor([[0.4344, 0.8545],\n",
       "          [0.3336, 0.6493],\n",
       "          [0.7499, 0.2309],\n",
       "          [0.4290, 0.6426],\n",
       "          [0.5168, 0.8115],\n",
       "          [0.7426, 0.4381],\n",
       "          [0.5285, 0.1795],\n",
       "          [0.5070, 0.6046]]),\n",
       "  tensor([0, 0, 1, 0, 0, 1, 1, 0])])"
      ]
     },
     "execution_count": 3,
     "metadata": {},
     "output_type": "execute_result"
    }
   ],
   "source": [
    "#数据集加载器,每8条数据为一个批次,打乱顺序,不足8条时丢弃尾数\n",
    "loader = torch.utils.data.DataLoader(dataset=dataset,\n",
    "                                     batch_size=8,\n",
    "                                     shuffle=True,\n",
    "                                     drop_last=True)\n",
    "\n",
    "len(loader), next(iter(loader))"
   ]
  },
  {
   "cell_type": "code",
   "execution_count": 4,
   "id": "42a20247",
   "metadata": {},
   "outputs": [
    {
     "data": {
      "text/plain": [
       "torch.Size([8, 2])"
      ]
     },
     "execution_count": 4,
     "metadata": {},
     "output_type": "execute_result"
    }
   ],
   "source": [
    "#全连接神经网络\n",
    "class Model(torch.nn.Module):\n",
    "\n",
    "    #模型初始化部分\n",
    "    def __init__(self):\n",
    "        super().__init__()\n",
    "\n",
    "        #定义神经网络结构\n",
    "        self.fc = torch.nn.Sequential(\n",
    "            torch.nn.Linear(in_features=2, out_features=32),\n",
    "            torch.nn.ReLU(),\n",
    "            torch.nn.Linear(in_features=32, out_features=32),\n",
    "            torch.nn.ReLU(),\n",
    "            torch.nn.Linear(in_features=32, out_features=2),\n",
    "            torch.nn.Softmax(dim=1),\n",
    "        )\n",
    "\n",
    "    #定义神经网络计算过程\n",
    "    def forward(self, x):\n",
    "        return self.fc(x)\n",
    "\n",
    "\n",
    "model = Model()\n",
    "\n",
    "model(torch.randn(8, 2)).shape"
   ]
  },
  {
   "cell_type": "code",
   "execution_count": 5,
   "id": "233d2672",
   "metadata": {
    "scrolled": false
   },
   "outputs": [
    {
     "name": "stdout",
     "output_type": "stream",
     "text": [
      "0 0.6785416603088379 0.625\n",
      "20 0.47304677963256836 1.0\n",
      "40 0.367154598236084 1.0\n",
      "60 0.4003196954727173 1.0\n",
      "80 0.37078338861465454 1.0\n"
     ]
    }
   ],
   "source": [
    "#训练\n",
    "def train():\n",
    "    #优化器,根据梯度调整模型参数\n",
    "    optimizer = torch.optim.Adam(model.parameters(), lr=1e-4)\n",
    "    \n",
    "    #计算loss的函数\n",
    "    loss_fun = torch.nn.CrossEntropyLoss()\n",
    "    \n",
    "    #让model进入train模式,开启dropout等功能\n",
    "    model.train()\n",
    "\n",
    "    #全量数据遍历100轮\n",
    "    for epoch in range(100):\n",
    "        \n",
    "        #按批次遍历loader中的数据\n",
    "        for i, (x, y) in enumerate(loader):\n",
    "            \n",
    "            #模型计算\n",
    "            out = model(x)\n",
    "            \n",
    "            #根据计算结果和y的差,计算loss,在计算结果完全正确的情况下,loss为0\n",
    "            loss = loss_fun(out, y)\n",
    "\n",
    "            #根据loss计算模型的梯度\n",
    "            loss.backward()\n",
    "            \n",
    "            #根据梯度调整模型的参数\n",
    "            optimizer.step()\n",
    "            \n",
    "            #梯度归零,准备下一轮的计算\n",
    "            optimizer.zero_grad()\n",
    "\n",
    "        if epoch % 20 == 0:\n",
    "            #计算正确率\n",
    "            acc = (out.argmax(dim=1) == y).sum().item() / len(y)\n",
    "            print(epoch, loss.item(), acc)\n",
    "            \n",
    "    #保存模型到磁盘\n",
    "    torch.save(model, 'model/3.model')\n",
    "\n",
    "\n",
    "train()"
   ]
  },
  {
   "cell_type": "code",
   "execution_count": 6,
   "id": "10d3a668",
   "metadata": {},
   "outputs": [
    {
     "name": "stdout",
     "output_type": "stream",
     "text": [
      "tensor([1, 1, 1, 0, 0, 0, 0, 0]) tensor([1, 1, 1, 0, 0, 0, 0, 0])\n",
      "tensor([True, True, True, True, True, True, True, True])\n"
     ]
    }
   ],
   "source": [
    "#测试\n",
    "#注释的表明不计算模型梯度,节省计算资源\n",
    "@torch.no_grad()\n",
    "def test():\n",
    "    \n",
    "    #从磁盘加载模型\n",
    "    model = torch.load('model/3.model')\n",
    "\n",
    "    #模型进入测试模式,关闭dropout等功能\n",
    "    model.eval()\n",
    "\n",
    "    #获取一批数据\n",
    "    x, y = next(iter(loader))\n",
    "\n",
    "    #模型计算结果\n",
    "    out = model(x).argmax(dim=1)\n",
    "\n",
    "    print(out, y)\n",
    "    print(out == y)\n",
    "\n",
    "\n",
    "test()"
   ]
  }
 ],
 "metadata": {
  "kernelspec": {
   "display_name": "Python [conda env:pt2]",
   "language": "python",
   "name": "conda-env-pt2-py"
  },
  "language_info": {
   "codemirror_mode": {
    "name": "ipython",
    "version": 3
   },
   "file_extension": ".py",
   "mimetype": "text/x-python",
   "name": "python",
   "nbconvert_exporter": "python",
   "pygments_lexer": "ipython3",
   "version": "3.10.11"
  }
 },
 "nbformat": 4,
 "nbformat_minor": 5
}
