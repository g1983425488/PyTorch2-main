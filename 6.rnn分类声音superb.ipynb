{
 "cells": [
  {
   "cell_type": "code",
   "execution_count": 1,
   "id": "17e92a84",
   "metadata": {},
   "outputs": [
    {
     "data": {
      "text/plain": [
       "(23000, 23000, torch.Size([4000, 1]), 2)"
      ]
     },
     "execution_count": 1,
     "metadata": {},
     "output_type": "execute_result"
    }
   ],
   "source": [
    "def load_data():\n",
    "    import os\n",
    "    import torchaudio\n",
    "\n",
    "    xs = []\n",
    "    ys = []\n",
    "\n",
    "    #遍历文件夹下的所有文件\n",
    "    for filename in os.listdir('data/superb'):\n",
    "\n",
    "        #只要图片,过滤一些无关的文件\n",
    "        if not filename.endswith('.wav'):\n",
    "            continue\n",
    "\n",
    "        #读取声音信息\n",
    "        x = torchaudio.load('data/superb/%s' % filename)[0]\n",
    "        x = x.reshape(-1, 1)\n",
    "\n",
    "        #y来自文件名的第一个字符\n",
    "        y = int(filename[0])\n",
    "\n",
    "        xs.append(x)\n",
    "        ys.append(y)\n",
    "\n",
    "    return xs, ys\n",
    "\n",
    "\n",
    "xs, ys = load_data()\n",
    "\n",
    "len(xs), len(ys), xs[0].shape, ys[0]"
   ]
  },
  {
   "cell_type": "code",
   "execution_count": 2,
   "id": "0b855903",
   "metadata": {
    "scrolled": false
   },
   "outputs": [
    {
     "data": {
      "text/plain": [
       "(23000, torch.Size([4000, 1]), 2)"
      ]
     },
     "execution_count": 2,
     "metadata": {},
     "output_type": "execute_result"
    }
   ],
   "source": [
    "import torch\n",
    "\n",
    "\n",
    "#定义数据集\n",
    "class Dataset(torch.utils.data.Dataset):\n",
    "\n",
    "    def __len__(self):\n",
    "        return len(xs)\n",
    "\n",
    "    def __getitem__(self, i):\n",
    "        return xs[i], ys[i]\n",
    "\n",
    "\n",
    "dataset = Dataset()\n",
    "\n",
    "x, y = dataset[0]\n",
    "\n",
    "len(dataset), x.shape, y"
   ]
  },
  {
   "cell_type": "code",
   "execution_count": 3,
   "id": "b5fd0e99",
   "metadata": {
    "scrolled": true
   },
   "outputs": [
    {
     "data": {
      "text/plain": [
       "(2875, torch.Size([8, 4000, 1]), tensor([1, 4, 8, 7, 3, 1, 3, 2]))"
      ]
     },
     "execution_count": 3,
     "metadata": {},
     "output_type": "execute_result"
    }
   ],
   "source": [
    "#数据集加载器\n",
    "loader = torch.utils.data.DataLoader(dataset=dataset,\n",
    "                                     batch_size=8,\n",
    "                                     shuffle=True,\n",
    "                                     drop_last=True)\n",
    "\n",
    "x, y = next(iter(loader))\n",
    "\n",
    "len(loader), x.shape, y"
   ]
  },
  {
   "cell_type": "code",
   "execution_count": 4,
   "id": "42a20247",
   "metadata": {
    "scrolled": false
   },
   "outputs": [
    {
     "data": {
      "text/plain": [
       "torch.Size([8, 10])"
      ]
     },
     "execution_count": 4,
     "metadata": {},
     "output_type": "execute_result"
    }
   ],
   "source": [
    "#RNN神经网络\n",
    "class Model(torch.nn.Module):\n",
    "\n",
    "    #模型初始化部分\n",
    "    def __init__(self):\n",
    "        super().__init__()\n",
    "\n",
    "        #循环层\n",
    "        self.rnn1 = torch.nn.RNN(input_size=1,\n",
    "                                 hidden_size=16,\n",
    "                                 batch_first=True)\n",
    "\n",
    "        self.rnn2 = torch.nn.RNN(input_size=16,\n",
    "                                 hidden_size=32,\n",
    "                                 batch_first=True)\n",
    "\n",
    "        self.rnn3 = torch.nn.RNN(input_size=32,\n",
    "                                 hidden_size=64,\n",
    "                                 batch_first=True)\n",
    "\n",
    "        self.rnn4 = torch.nn.RNN(input_size=64,\n",
    "                                 hidden_size=128,\n",
    "                                 batch_first=True)\n",
    "\n",
    "        #激活函数\n",
    "        self.relu = torch.nn.ReLU()\n",
    "\n",
    "        #池化层\n",
    "        self.pool = torch.nn.AvgPool1d(kernel_size=7, stride=5)\n",
    "\n",
    "        #线性输出\n",
    "        self.fc = torch.nn.Linear(in_features=640, out_features=10)\n",
    "\n",
    "    #定义神经网络计算过程\n",
    "    def forward(self, x):\n",
    "\n",
    "        #循环神经网络计算,抽取特征\n",
    "        #[8, 4000, 1] -> [8, 4000, 16]\n",
    "        x, _ = self.rnn1(x)\n",
    "        x = self.relu(x)\n",
    "\n",
    "        #池化,缩小数据规模,合并特征\n",
    "        #[8, 4000, 16] -> [8, 799, 16]\n",
    "        x = x.permute(0, 2, 1)\n",
    "        x = self.pool(x)\n",
    "        x = x.permute(0, 2, 1)\n",
    "\n",
    "        #重复上面的计算\n",
    "        #[8, 799, 16] -> [8, 159, 32]\n",
    "        x, _ = self.rnn2(x)\n",
    "        x = self.relu(x)\n",
    "        x = x.permute(0, 2, 1)\n",
    "        x = self.pool(x)\n",
    "        x = x.permute(0, 2, 1)\n",
    "\n",
    "        #[8, 159, 32] -> [8, 31, 64]\n",
    "        x, _ = self.rnn3(x)\n",
    "        x = self.relu(x)\n",
    "        x = x.permute(0, 2, 1)\n",
    "        x = self.pool(x)\n",
    "        x = x.permute(0, 2, 1)\n",
    "\n",
    "        #[8, 31, 64] -> [8, 5, 128]\n",
    "        x, _ = self.rnn4(x)\n",
    "        x = self.relu(x)\n",
    "        x = x.permute(0, 2, 1)\n",
    "        x = self.pool(x)\n",
    "        x = x.permute(0, 2, 1)\n",
    "\n",
    "        #展平,准备线性计算\n",
    "        #[8, 5, 128] -> [8, 640]\n",
    "        x = x.flatten(start_dim=1)\n",
    "\n",
    "        #线性计算输出\n",
    "        #[8, 640] -> [8, 10]\n",
    "        return self.fc(x)\n",
    "\n",
    "\n",
    "model = Model()\n",
    "\n",
    "model(torch.randn(8, 4000, 1)).shape"
   ]
  },
  {
   "cell_type": "code",
   "execution_count": 5,
   "id": "233d2672",
   "metadata": {
    "scrolled": false
   },
   "outputs": [
    {
     "name": "stdout",
     "output_type": "stream",
     "text": [
      "0 0 2.3113341331481934 0.125\n",
      "0 1000 2.2801661491394043 0.0\n",
      "0 2000 2.0391957759857178 0.25\n",
      "1 0 1.377378225326538 0.625\n",
      "1 1000 1.016880750656128 0.75\n",
      "1 2000 1.373030185699463 0.875\n",
      "2 0 1.3848010301589966 0.5\n",
      "2 1000 1.247510552406311 0.625\n",
      "2 2000 0.5396544337272644 0.75\n",
      "3 0 0.5381454229354858 0.875\n",
      "3 1000 0.5385101437568665 0.75\n",
      "3 2000 0.47994914650917053 0.875\n",
      "4 0 0.6550807356834412 0.75\n",
      "4 1000 0.981016993522644 0.625\n",
      "4 2000 0.7298880815505981 0.625\n"
     ]
    }
   ],
   "source": [
    "#训练\n",
    "def train():\n",
    "    optimizer = torch.optim.Adam(model.parameters(), lr=1e-3)\n",
    "    loss_fun = torch.nn.CrossEntropyLoss()\n",
    "    model.train()\n",
    "\n",
    "    for epoch in range(5):\n",
    "        for i, (x, y) in enumerate(loader):\n",
    "\n",
    "            out = model(x)\n",
    "            loss = loss_fun(out, y)\n",
    "\n",
    "            loss.backward()\n",
    "            optimizer.step()\n",
    "            optimizer.zero_grad()\n",
    "\n",
    "            if i % 1000 == 0:\n",
    "                acc = (out.argmax(dim=1) == y).sum().item() / len(y)\n",
    "                print(epoch, i, loss.item(), acc)\n",
    "\n",
    "    torch.save(model, 'model/6.model')\n",
    "\n",
    "\n",
    "train()"
   ]
  },
  {
   "cell_type": "code",
   "execution_count": 6,
   "id": "4a1135ca",
   "metadata": {},
   "outputs": [
    {
     "name": "stdout",
     "output_type": "stream",
     "text": [
      "0.7525\n"
     ]
    }
   ],
   "source": [
    "#测试\n",
    "@torch.no_grad()\n",
    "def test():\n",
    "    model = torch.load('model/6.model')\n",
    "    model.eval()\n",
    "\n",
    "    correct = 0\n",
    "    total = 0\n",
    "    for i in range(100):\n",
    "        x, y = next(iter(loader))\n",
    "\n",
    "        out = model(x).argmax(dim=1)\n",
    "\n",
    "        correct += (out == y).sum().item()\n",
    "        total += len(y)\n",
    "\n",
    "    print(correct / total)\n",
    "\n",
    "\n",
    "test()"
   ]
  }
 ],
 "metadata": {
  "kernelspec": {
   "display_name": "Python [conda env:pt2]",
   "language": "python",
   "name": "conda-env-pt2-py"
  },
  "language_info": {
   "codemirror_mode": {
    "name": "ipython",
    "version": 3
   },
   "file_extension": ".py",
   "mimetype": "text/x-python",
   "name": "python",
   "nbconvert_exporter": "python",
   "pygments_lexer": "ipython3",
   "version": "3.10.11"
  }
 },
 "nbformat": 4,
 "nbformat_minor": 5
}
